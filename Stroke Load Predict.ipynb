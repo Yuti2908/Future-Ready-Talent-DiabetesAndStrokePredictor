{
 "cells": [
  {
   "cell_type": "code",
   "execution_count": 2,
   "id": "dc61e41b-efa5-4cdc-a528-959c8070a709",
   "metadata": {},
   "outputs": [
    {
     "name": "stdout",
     "output_type": "stream",
     "text": [
      "b'{\"Results\": [0]}'\n",
      "You Didn't get Stroke\n"
     ]
    }
   ],
   "source": [
    "import urllib.request\n",
    "import json\n",
    "import os\n",
    "import ssl\n",
    "\n",
    "def allowSelfSignedHttps(allowed):\n",
    "    # bypass the server certificate verification on client side\n",
    "    if allowed and not os.environ.get('PYTHONHTTPSVERIFY', '') and getattr(ssl, '_create_unverified_context', None):\n",
    "        ssl._create_default_https_context = ssl._create_unverified_context\n",
    "\n",
    "allowSelfSignedHttps(True) # this line is needed if you use self-signed certificate in your scoring service.\n",
    "\n",
    "# Request data goes here\n",
    "# The example below assumes JSON formatting which may be updated\n",
    "# depending on the format your endpoint expects.\n",
    "# More information can be found here:\n",
    "# https://docs.microsoft.com/azure/machine-learning/how-to-deploy-advanced-entry-script\n",
    "data =  {\n",
    "  \"Inputs\": {\n",
    "    \"data\": [\n",
    "      {\n",
    "        \"gender\": \"Male\",\n",
    "        \"age\": 58.0,\n",
    "        \"hypertension\": 1,\n",
    "        \"heart_disease\": 0,\n",
    "        \"ever_married\": True,\n",
    "        \"work_type\": \"Private\",\n",
    "        \"Residence_type\": \"Urban\",\n",
    "        \"avg_glucose_level\": 87.96,\n",
    "        \"bmi\": \"39.2\",\n",
    "        \"smoking_status\": \"never smoked\"\n",
    "      }\n",
    "    ]\n",
    "  },\n",
    "  \"GlobalParameters\": {\n",
    "    \"method\": \"predict\"\n",
    "  }\n",
    "}\n",
    "\n",
    "body = str.encode(json.dumps(data))\n",
    "\n",
    "url = 'http://62aba0fb-0d59-41c3-8c2d-0f838938a234.eastus2.azurecontainer.io/score'\n",
    "\n",
    "\n",
    "headers = {'Content-Type':'application/json'}\n",
    "\n",
    "req = urllib.request.Request(url, body, headers)\n",
    "\n",
    "try:\n",
    "    response = urllib.request.urlopen(req)\n",
    "\n",
    "    result = response.read()\n",
    "    print(result)\n",
    "    x=result.decode()\n",
    "    y=int(x[13:14])\n",
    "    if y==0:\n",
    "      print(\"You Didn't get Stroke\")\n",
    "    elif y==1:\n",
    "      print(\"You are at High Risk of having a Stroke\")\n",
    "    else:\n",
    "        print(\"invalid\")\n",
    "except urllib.error.HTTPError as error:\n",
    "    print(\"The request failed with status code: \" + str(error.code))\n",
    "\n",
    "    # Print the headers - they include the requert ID and the timestamp, which are useful for debugging the failure\n",
    "    print(error.info())\n",
    "    print(error.read().decode(\"utf8\", 'ignore'))"
   ]
  }
 ],
 "metadata": {
  "kernelspec": {
   "display_name": "Python 3 (ipykernel)",
   "language": "python",
   "name": "python3"
  },
  "language_info": {
   "codemirror_mode": {
    "name": "ipython",
    "version": 3
   },
   "file_extension": ".py",
   "mimetype": "text/x-python",
   "name": "python",
   "nbconvert_exporter": "python",
   "pygments_lexer": "ipython3",
   "version": "3.9.10"
  }
 },
 "nbformat": 4,
 "nbformat_minor": 5
}
